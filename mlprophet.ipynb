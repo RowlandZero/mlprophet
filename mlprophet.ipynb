{
 "cells": [
  {
   "cell_type": "code",
   "execution_count": null,
   "metadata": {},
   "outputs": [],
   "source": []
  }
 ],
 "metadata": {
  "interpreter": {
   "hash": "3484e3f576e314ee80cefc25a95ac00c464b7e79a98a1772d43a1fe5d10b384a"
  },
  "kernelspec": {
   "display_name": "Python 3.8.0 64-bit ('mlenv': pyenv)",
   "language": "python",
   "name": "python3"
  },
  "language_info": {
   "name": "python",
   "version": "3.8.0"
  },
  "orig_nbformat": 4
 },
 "nbformat": 4,
 "nbformat_minor": 2
}
